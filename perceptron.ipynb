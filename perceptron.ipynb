{
  "cells": [
    {
      "cell_type": "markdown",
      "metadata": {
        "id": "a5W7VQoE7hRy"
      },
      "source": [
        "<h1 align=\"center\">Perceptron</h1>"
      ]
    },
    {
      "cell_type": "markdown",
      "metadata": {
        "id": "TIwurqch7hR2"
      },
      "source": [
        "## Import Libraries"
      ]
    },
    {
      "cell_type": "code",
      "execution_count": 1093,
      "metadata": {
        "id": "mH2-DPJ17hR3"
      },
      "outputs": [],
      "source": [
        "import numpy as np\n",
        "import pandas as pd\n",
        "import matplotlib.pyplot as plt"
      ]
    },
    {
      "cell_type": "code",
      "execution_count": 1094,
      "metadata": {
        "id": "bWcU4QnA7hR5"
      },
      "outputs": [],
      "source": [
        "from sklearn.model_selection import train_test_split\n",
        "from sklearn.metrics import mean_squared_error"
      ]
    },
    {
      "cell_type": "markdown",
      "metadata": {
        "id": "smr6iES07hR8"
      },
      "source": [
        "## Activation Function"
      ]
    },
    {
      "cell_type": "code",
      "execution_count": 1095,
      "metadata": {
        "id": "Bm32iZLU7hR9"
      },
      "outputs": [],
      "source": [
        "def linear(x):\n",
        "    return x\n",
        "\n",
        "\n",
        "def step(x):\n",
        "    return np.where(x >= 0, 1, 0)\n",
        "\n",
        "\n",
        "def linear(x: np.ndarray):\n",
        "    return x\n",
        "\n",
        "\n",
        "def sigmoid(x: np.ndarray):\n",
        "    return 1 / (1 + np.exp(-x))"
      ]
    },
    {
      "cell_type": "markdown",
      "metadata": {
        "id": "3M4lQFvs7hR-"
      },
      "source": [
        "## The perceptron using loop through a fixed number of epochs\n",
        "- Initialize the weights and the bias\n",
        "- Loop through the epochs\n",
        "- Loop through the training data\n",
        "- Calculate the weighted sum of the inputs and the weights\n",
        "- Apply the activation function\n",
        "- Update the weights and the bias"
      ]
    },
    {
      "cell_type": "code",
      "execution_count": 1096,
      "metadata": {
        "id": "z2aLj--r7hR-"
      },
      "outputs": [],
      "source": [
        "class Perceptron:\n",
        "    def __init__(self, learning_rate=0.01, n_iters=1000, act=step):\n",
        "        self.lr = learning_rate\n",
        "        self.n_iters = n_iters\n",
        "        self.activation_func = act\n",
        "\n",
        "        self.weights = None\n",
        "        self.bias = None\n",
        "\n",
        "    def fit(self, X: np.ndarray, y: np.ndarray) -> None:\n",
        "        n_samples, n_features = X.shape\n",
        "\n",
        "        # Initialize parameters\n",
        "        self.weights = np.random.rand(n_features)\n",
        "        self.bias = 0\n",
        "\n",
        "        for _ in range(self.n_iters):\n",
        "            for idx, x_i in enumerate(X):\n",
        "                y_predicted = self.predict(x_i)\n",
        "\n",
        "                # Update weights and bias using delta rule\n",
        "                update = self.lr * (y[idx] - y_predicted)\n",
        "                self.weights += update * x_i\n",
        "                self.bias += update\n",
        "\n",
        "    def predict(self, X: np.ndarray) -> np.ndarray:\n",
        "        net = np.dot(X, self.weights) + self.bias\n",
        "        return self.activation_func(net)"
      ]
    },
    {
      "cell_type": "markdown",
      "metadata": {
        "id": "f8kGI5Xo7hSB"
      },
      "source": [
        "### Products Prediction"
      ]
    },
    {
      "cell_type": "markdown",
      "metadata": {
        "id": "aEdbsTb57hSD"
      },
      "source": [
        "#### Initial and clean data\n",
        "- Read the data from the file `data/prod-train.csv`\n",
        "- Map the `Type` column to a numerical value\n",
        "- Split the data into the X and Y \n",
        "- Split the data into the training and testing data"
      ]
    },
    {
      "cell_type": "code",
      "execution_count": 1097,
      "metadata": {
        "id": "LRmI_RgC7hSE"
      },
      "outputs": [],
      "source": [
        "prod_train = pd.read_csv(\"data/prod-train.csv\")"
      ]
    },
    {
      "cell_type": "code",
      "execution_count": 1098,
      "metadata": {
        "id": "AVVSg1g67hSG"
      },
      "outputs": [],
      "source": [
        "type_mappings = {\"Chair\": 0, \"Table\": 1, \"Bed\": 2}"
      ]
    },
    {
      "cell_type": "code",
      "execution_count": 1099,
      "metadata": {
        "id": "MeSD55Hf7hSI"
      },
      "outputs": [],
      "source": [
        "# Feature selection\n",
        "features = [\"Width\", \"Height\"]\n",
        "\n",
        "# Slipt data into X and Y\n",
        "X = prod_train[features].values\n",
        "Y = prod_train[\"Type\"].map(type_mappings).values"
      ]
    },
    {
      "cell_type": "code",
      "execution_count": 1100,
      "metadata": {
        "id": "1ajKxuh77hSJ"
      },
      "outputs": [],
      "source": [
        "# Split data into training and testing\n",
        "X_train, X_test, y_train, y_test = train_test_split(\n",
        "    X, Y, test_size=0.2, random_state=69\n",
        ")"
      ]
    },
    {
      "cell_type": "markdown",
      "metadata": {
        "id": "zLlfrd2q7hSL"
      },
      "source": [
        "#### Training the Model\n",
        "- Train the model using the training data\n",
        "- Plot the loss function"
      ]
    },
    {
      "cell_type": "code",
      "execution_count": 1101,
      "metadata": {
        "id": "mQruM0017hSM",
        "outputId": "d254729e-b5f4-4821-eb36-8ec965023dcf"
      },
      "outputs": [
        {
          "name": "stdout",
          "output_type": "stream",
          "text": [
            "lr=0.01: mse=0.5\n",
            "lr=0.02: mse=0.5\n",
            "lr=0.001: mse=0.0\n",
            "lr=0.002: mse=0.5\n"
          ]
        },
        {
          "data": {
            "image/png": "[encoded data removed]",
            "text/plain": [
              "<Figure size 640x480 with 1 Axes>"
            ]
          },
          "metadata": {},
          "output_type": "display_data"
        }
      ],
      "source": [
        "for lr in [0.01, 0.02, 0.001, 0.002]:\n",
        "    p = Perceptron(learning_rate=lr, n_iters=1000, act=linear)\n",
        "    p.fit(X_train, y_train)\n",
        "\n",
        "    y_pred = np.round(p.predict(X_test))\n",
        "\n",
        "    print(f\"lr={lr}: mse={mean_squared_error(y_test, y_pred)}\")\n",
        "    plt.plot(X_test, y_pred, label=f\"lr={lr}\")\n",
        "\n",
        "plt.legend()\n",
        "plt.show()"
      ]
    },
    {
      "cell_type": "markdown",
      "metadata": {
        "id": "jhY7p06T7hSO"
      },
      "source": [
        "#### Testing the Model\n",
        "- Test the model using the testing data from the file `data/prod-test.csv`"
      ]
    },
    {
      "cell_type": "code",
      "execution_count": 1102,
      "metadata": {
        "id": "FUj1o1bt7hSR"
      },
      "outputs": [],
      "source": [
        "p = Perceptron(learning_rate=0.01, n_iters=1000, act=linear)"
      ]
    },
    {
      "cell_type": "code",
      "execution_count": 1103,
      "metadata": {
        "id": "V5eiF3VU7hSS"
      },
      "outputs": [],
      "source": [
        "p.fit(X_train, y_train)"
      ]
    },
    {
      "cell_type": "code",
      "execution_count": 1104,
      "metadata": {
        "id": "DggDu5Pr7hSW"
      },
      "outputs": [],
      "source": [
        "prod_test = pd.read_csv(\"data/prod-test.csv\")"
      ]
    },
    {
      "cell_type": "code",
      "execution_count": 1105,
      "metadata": {
        "id": "KHuse3B17hSX",
        "outputId": "950c5954-a987-4ac7-9ef7-1231bf287d5b"
      },
      "outputs": [
        {
          "data": {
            "text/html": [
              "<div>\n",
              "<style scoped>\n",
              "    .dataframe tbody tr th:only-of-type {\n",
              "        vertical-align: middle;\n",
              "    }\n",
              "\n",
              "    .dataframe tbody tr th {\n",
              "        vertical-align: top;\n",
              "    }\n",
              "\n",
              "    .dataframe thead th {\n",
              "        text-align: right;\n",
              "    }\n",
              "</style>\n",
              "<table border=\"1\" class=\"dataframe\">\n",
              "  <thead>\n",
              "    <tr style=\"text-align: right;\">\n",
              "      <th></th>\n",
              "      <th>Width</th>\n",
              "      <th>Height</th>\n",
              "      <th>Type</th>\n",
              "    </tr>\n",
              "  </thead>\n",
              "  <tbody>\n",
              "    <tr>\n",
              "      <th>0</th>\n",
              "      <td>0.35</td>\n",
              "      <td>0.35</td>\n",
              "      <td>Chair</td>\n",
              "    </tr>\n",
              "    <tr>\n",
              "      <th>1</th>\n",
              "      <td>0.85</td>\n",
              "      <td>0.70</td>\n",
              "      <td>Table</td>\n",
              "    </tr>\n",
              "    <tr>\n",
              "      <th>2</th>\n",
              "      <td>1.40</td>\n",
              "      <td>0.45</td>\n",
              "      <td>Bed</td>\n",
              "    </tr>\n",
              "  </tbody>\n",
              "</table>\n",
              "</div>"
            ],
            "text/plain": [
              "   Width  Height   Type\n",
              "0   0.35    0.35  Chair\n",
              "1   0.85    0.70  Table\n",
              "2   1.40    0.45    Bed"
            ]
          },
          "execution_count": 1105,
          "metadata": {},
          "output_type": "execute_result"
        }
      ],
      "source": [
        "y_pred = np.round(p.predict(prod_test.values))\n",
        "\n",
        "pd.DataFrame(\n",
        "    {\"Width\": prod_test[\"Width\"], \"Height\": prod_test[\"Height\"], \"Type\": y_pred}\n",
        ").replace({v: k for k, v in type_mappings.items()})"
      ]
    },
    {
      "cell_type": "markdown",
      "metadata": {},
      "source": [
        "## The perceptron using error correction\n",
        "- Initialize the weights and the bias\n",
        "- Infinite loop until the error less than a threshold\n",
        "- Loop through the training data\n",
        "- Calculate the weighted sum of the inputs and the weights\n",
        "- Apply the activation function\n",
        "- Update the weights and the bias\n",
        "- Update the error"
      ]
    },
    {
      "cell_type": "code",
      "execution_count": 1106,
      "metadata": {},
      "outputs": [],
      "source": [
        "class PerceptronE:\n",
        "    def __init__(self, learning_rate=0.01, epsilon=0.1, act=step):\n",
        "        self.lr = learning_rate\n",
        "        self.epsilon = epsilon\n",
        "        self.activation_func = act\n",
        "\n",
        "        self.weights = None\n",
        "        self.bias = None\n",
        "\n",
        "    def fit(self, X: np.ndarray, y: np.ndarray) -> None:\n",
        "        n_samples, n_features = X.shape\n",
        "\n",
        "        # Initialize parameters\n",
        "        self.weights = np.random.rand(n_features)\n",
        "        self.bias = 0\n",
        "        E = 0\n",
        "        epochs = 0\n",
        "        while True:\n",
        "            for idx, x_i in enumerate(X):\n",
        "                y_predicted = self.predict(x_i)\n",
        "\n",
        "                # Update weights and bias using delta rule\n",
        "                update = self.lr * (y[idx] - y_predicted)\n",
        "                self.weights += update * x_i\n",
        "                self.bias += update\n",
        "                E += 0.5 * (y[idx] - y_predicted) ** 2\n",
        "            epochs += 1\n",
        "\n",
        "            print(f\"Epochs {epochs}, E={E}\")\n",
        "            if E < self.epsilon:\n",
        "                break\n",
        "            else:\n",
        "                E = 0\n",
        "\n",
        "    def predict(self, X: np.ndarray) -> np.ndarray:\n",
        "        net = np.dot(X, self.weights) + self.bias\n",
        "        return self.activation_func(net)"
      ]
    },
    {
      "cell_type": "markdown",
      "metadata": {},
      "source": [
        "### Train the Model"
      ]
    },
    {
      "cell_type": "code",
      "execution_count": 1107,
      "metadata": {},
      "outputs": [],
      "source": [
        "prod_train = pd.read_csv(\"data/prod-train.csv\")"
      ]
    },
    {
      "cell_type": "code",
      "execution_count": 1108,
      "metadata": {},
      "outputs": [],
      "source": [
        "X = prod_train[[\"Width\", \"Height\"]].values\n",
        "Y = prod_train[\"Type\"].map(type_mappings).values"
      ]
    },
    {
      "cell_type": "code",
      "execution_count": null,
      "metadata": {},
      "outputs": [],
      "source": [
        "X_train, X_test, y_train, y_test = train_test_split(\n",
        "    X, Y, test_size=0.2, random_state=69\n",
        ")"
      ]
    },
    {
      "cell_type": "code",
      "execution_count": 1109,
      "metadata": {},
      "outputs": [],
      "source": [
        "p = PerceptronE(learning_rate=0.01, epsilon=0.5, act=linear)"
      ]
    },
    {
      "cell_type": "code",
      "execution_count": 1110,
      "metadata": {},
      "outputs": [
        {
          "name": "stdout",
          "output_type": "stream",
          "text": [
            "Epochs 1, E=1.1201656601901324\n",
            "Epochs 2, E=1.0872759419012166\n",
            "Epochs 3, E=1.05949710929265\n",
            "Epochs 4, E=1.035313467998386\n",
            "Epochs 5, E=1.0137126562905148\n",
            "Epochs 6, E=0.9940146020900533\n",
            "Epochs 7, E=0.9757591715104621\n",
            "Epochs 8, E=0.9586322582623332\n",
            "Epochs 9, E=0.9424170733796514\n",
            "Epochs 10, E=0.9269619734411312\n",
            "Epochs 11, E=0.9121591570524012\n",
            "Epochs 12, E=0.8979305147452326\n",
            "Epochs 13, E=0.8842181961639437\n",
            "Epochs 14, E=0.8709782951027611\n",
            "Epochs 15, E=0.8581766008133805\n",
            "Epochs 16, E=0.8457857230364259\n",
            "Epochs 17, E=0.8337831337443751\n",
            "Epochs 18, E=0.8221498232903014\n",
            "Epochs 19, E=0.8108693704250021\n",
            "Epochs 20, E=0.7999272927092058\n",
            "Epochs 21, E=0.7893105881362541\n",
            "Epochs 22, E=0.7790074081027494\n",
            "Epochs 23, E=0.7690068213360078\n",
            "Epochs 24, E=0.7592986413626731\n",
            "Epochs 25, E=0.7498732987851383\n",
            "Epochs 26, E=0.7407217454696526\n",
            "Epochs 27, E=0.7318353816958664\n",
            "Epochs 28, E=0.7232060000014164\n",
            "Epochs 29, E=0.7148257412933144\n",
            "Epochs 30, E=0.7066870600664542\n",
            "Epochs 31, E=0.6987826964523696\n",
            "Epochs 32, E=0.6911056534411814\n",
            "Epochs 33, E=0.6836491780589675\n",
            "Epochs 34, E=0.6764067455971141\n",
            "Epochs 35, E=0.669372046217367\n",
            "Epochs 36, E=0.6625389734220406\n",
            "Epochs 37, E=0.6559016140009397\n",
            "Epochs 38, E=0.6494542391572947\n",
            "Epochs 39, E=0.6431912965830558\n",
            "Epochs 40, E=0.6371074033053011\n",
            "Epochs 41, E=0.6311973391646497\n",
            "Epochs 42, E=0.625456040816536\n",
            "Epochs 43, E=0.6198785961693184\n",
            "Epochs 44, E=0.6144602391910645\n",
            "Epochs 45, E=0.6091963450307928\n",
            "Epochs 46, E=0.6040824254108138\n",
            "Epochs 47, E=0.5991141242553331\n",
            "Epochs 48, E=0.5942872135271945\n",
            "Epochs 49, E=0.5895975892499159\n",
            "Epochs 50, E=0.5850412676963552\n",
            "Epochs 51, E=0.5806143817286549\n",
            "Epochs 52, E=0.5763131772767495\n",
            "Epochs 53, E=0.5721340099448154\n",
            "Epochs 54, E=0.568073341736716\n",
            "Epochs 55, E=0.5641277378928393\n",
            "Epochs 56, E=0.5602938638318042\n",
            "Epochs 57, E=0.5565684821913687\n",
            "Epochs 58, E=0.5529484499635916\n",
            "Epochs 59, E=0.5494307157198589\n",
            "Epochs 60, E=0.5460123169218534\n",
            "Epochs 61, E=0.5426903773149292\n",
            "Epochs 62, E=0.539462104400676\n",
            "Epochs 63, E=0.5363247869856997\n",
            "Epochs 64, E=0.5332757928038983\n",
            "Epochs 65, E=0.5303125662096604\n",
            "Epochs 66, E=0.527432625939612\n",
            "Epochs 67, E=0.5246335629406361\n",
            "Epochs 68, E=0.5219130382620424\n",
            "Epochs 69, E=0.5192687810098365\n",
            "Epochs 70, E=0.5166985863611676\n",
            "Epochs 71, E=0.5142003136370767\n",
            "Epochs 72, E=0.5117718844317801\n",
            "Epochs 73, E=0.509411280796757\n",
            "Epochs 74, E=0.5071165434780114\n",
            "Epochs 75, E=0.5048857702048968\n",
            "Epochs 76, E=0.5027171140289786\n",
            "Epochs 77, E=0.5006087817114467\n",
            "Epochs 78, E=0.49855903215763625\n"
          ]
        }
      ],
      "source": [
        "p.fit(X, Y)"
      ]
    },
    {
      "cell_type": "code",
      "execution_count": 1111,
      "metadata": {},
      "outputs": [],
      "source": [
        "y_pred = np.round(p.predict(X))"
      ]
    },
    {
      "cell_type": "code",
      "execution_count": 1112,
      "metadata": {},
      "outputs": [
        {
          "data": {
            "text/html": [
              "<div>\n",
              "<style scoped>\n",
              "    .dataframe tbody tr th:only-of-type {\n",
              "        vertical-align: middle;\n",
              "    }\n",
              "\n",
              "    .dataframe tbody tr th {\n",
              "        vertical-align: top;\n",
              "    }\n",
              "\n",
              "    .dataframe thead th {\n",
              "        text-align: right;\n",
              "    }\n",
              "</style>\n",
              "<table border=\"1\" class=\"dataframe\">\n",
              "  <thead>\n",
              "    <tr style=\"text-align: right;\">\n",
              "      <th></th>\n",
              "      <th>Width</th>\n",
              "      <th>Height</th>\n",
              "      <th>Type</th>\n",
              "    </tr>\n",
              "  </thead>\n",
              "  <tbody>\n",
              "    <tr>\n",
              "      <th>0</th>\n",
              "      <td>0.30</td>\n",
              "      <td>0.30</td>\n",
              "      <td>Chair</td>\n",
              "    </tr>\n",
              "    <tr>\n",
              "      <th>1</th>\n",
              "      <td>0.35</td>\n",
              "      <td>0.40</td>\n",
              "      <td>Chair</td>\n",
              "    </tr>\n",
              "    <tr>\n",
              "      <th>2</th>\n",
              "      <td>0.40</td>\n",
              "      <td>0.50</td>\n",
              "      <td>Chair</td>\n",
              "    </tr>\n",
              "    <tr>\n",
              "      <th>3</th>\n",
              "      <td>0.80</td>\n",
              "      <td>0.75</td>\n",
              "      <td>Table</td>\n",
              "    </tr>\n",
              "    <tr>\n",
              "      <th>4</th>\n",
              "      <td>0.90</td>\n",
              "      <td>0.70</td>\n",
              "      <td>Table</td>\n",
              "    </tr>\n",
              "    <tr>\n",
              "      <th>5</th>\n",
              "      <td>1.00</td>\n",
              "      <td>0.80</td>\n",
              "      <td>Table</td>\n",
              "    </tr>\n",
              "    <tr>\n",
              "      <th>6</th>\n",
              "      <td>1.20</td>\n",
              "      <td>0.40</td>\n",
              "      <td>Table</td>\n",
              "    </tr>\n",
              "    <tr>\n",
              "      <th>7</th>\n",
              "      <td>1.60</td>\n",
              "      <td>0.50</td>\n",
              "      <td>Bed</td>\n",
              "    </tr>\n",
              "    <tr>\n",
              "      <th>8</th>\n",
              "      <td>2.00</td>\n",
              "      <td>0.50</td>\n",
              "      <td>Bed</td>\n",
              "    </tr>\n",
              "  </tbody>\n",
              "</table>\n",
              "</div>"
            ],
            "text/plain": [
              "   Width  Height   Type\n",
              "0   0.30    0.30  Chair\n",
              "1   0.35    0.40  Chair\n",
              "2   0.40    0.50  Chair\n",
              "3   0.80    0.75  Table\n",
              "4   0.90    0.70  Table\n",
              "5   1.00    0.80  Table\n",
              "6   1.20    0.40  Table\n",
              "7   1.60    0.50    Bed\n",
              "8   2.00    0.50    Bed"
            ]
          },
          "execution_count": 1112,
          "metadata": {},
          "output_type": "execute_result"
        }
      ],
      "source": [
        "res = pd.DataFrame(\n",
        "    {\"Width\": prod_train[\"Width\"], \"Height\": prod_train[\"Height\"], \"Type\": y_pred}\n",
        ")\n",
        "res[\"Type\"] = res[\"Type\"].replace({v: k for k, v in type_mappings.items()})\n",
        "res"
      ]
    },
    {
      "cell_type": "markdown",
      "metadata": {},
      "source": [
        "### Test the Model"
      ]
    },
    {
      "cell_type": "code",
      "execution_count": 1113,
      "metadata": {},
      "outputs": [],
      "source": [
        "test = pd.read_csv(\"data/prod-test.csv\")"
      ]
    },
    {
      "cell_type": "code",
      "execution_count": 1114,
      "metadata": {},
      "outputs": [
        {
          "data": {
            "text/html": [
              "<div>\n",
              "<style scoped>\n",
              "    .dataframe tbody tr th:only-of-type {\n",
              "        vertical-align: middle;\n",
              "    }\n",
              "\n",
              "    .dataframe tbody tr th {\n",
              "        vertical-align: top;\n",
              "    }\n",
              "\n",
              "    .dataframe thead th {\n",
              "        text-align: right;\n",
              "    }\n",
              "</style>\n",
              "<table border=\"1\" class=\"dataframe\">\n",
              "  <thead>\n",
              "    <tr style=\"text-align: right;\">\n",
              "      <th></th>\n",
              "      <th>Width</th>\n",
              "      <th>Height</th>\n",
              "      <th>Type</th>\n",
              "    </tr>\n",
              "  </thead>\n",
              "  <tbody>\n",
              "    <tr>\n",
              "      <th>0</th>\n",
              "      <td>0.35</td>\n",
              "      <td>0.35</td>\n",
              "      <td>Chair</td>\n",
              "    </tr>\n",
              "    <tr>\n",
              "      <th>1</th>\n",
              "      <td>0.85</td>\n",
              "      <td>0.70</td>\n",
              "      <td>Table</td>\n",
              "    </tr>\n",
              "    <tr>\n",
              "      <th>2</th>\n",
              "      <td>1.40</td>\n",
              "      <td>0.45</td>\n",
              "      <td>Table</td>\n",
              "    </tr>\n",
              "  </tbody>\n",
              "</table>\n",
              "</div>"
            ],
            "text/plain": [
              "   Width  Height   Type\n",
              "0   0.35    0.35  Chair\n",
              "1   0.85    0.70  Table\n",
              "2   1.40    0.45  Table"
            ]
          },
          "execution_count": 1114,
          "metadata": {},
          "output_type": "execute_result"
        }
      ],
      "source": [
        "y_pred = np.round(p.predict(prod_test.values))\n",
        "pd.DataFrame(\n",
        "    {\"Width\": prod_test[\"Width\"], \"Height\": prod_test[\"Height\"], \"Type\": y_pred}\n",
        ").replace({v: k for k, v in type_mappings.items()})"
      ]
    },
    {
      "cell_type": "markdown",
      "metadata": {},
      "source": [
        "## And Gate Prediction"
      ]
    },
    {
      "cell_type": "code",
      "execution_count": 1115,
      "metadata": {},
      "outputs": [],
      "source": [
        "p = Perceptron(learning_rate=0.01, n_iters=1000, act=step)\n",
        "pe = PerceptronE(learning_rate=0.01, epsilon=0.5, act=step)"
      ]
    },
    {
      "cell_type": "code",
      "execution_count": 1116,
      "metadata": {},
      "outputs": [],
      "source": [
        "prod_train = [[0, 0, 0], [0, 1, 0], [1, 0, 0], [1, 1, 1]]\n",
        "and_gate = pd.DataFrame(prod_train, columns=[\"X1\", \"X2\", \"Y\"])"
      ]
    },
    {
      "cell_type": "code",
      "execution_count": 1117,
      "metadata": {},
      "outputs": [
        {
          "name": "stdout",
          "output_type": "stream",
          "text": [
            "Epochs 1, E=1.5\n",
            "Epochs 2, E=1.0\n",
            "Epochs 3, E=1.0\n",
            "Epochs 4, E=1.0\n",
            "Epochs 5, E=1.0\n",
            "Epochs 6, E=1.0\n",
            "Epochs 7, E=1.0\n",
            "Epochs 8, E=1.0\n",
            "Epochs 9, E=1.0\n",
            "Epochs 10, E=1.0\n",
            "Epochs 11, E=1.0\n",
            "Epochs 12, E=1.0\n",
            "Epochs 13, E=1.0\n",
            "Epochs 14, E=1.0\n",
            "Epochs 15, E=1.0\n",
            "Epochs 16, E=1.0\n",
            "Epochs 17, E=1.0\n",
            "Epochs 18, E=1.0\n",
            "Epochs 19, E=1.0\n",
            "Epochs 20, E=1.0\n",
            "Epochs 21, E=0.5\n",
            "Epochs 22, E=0.5\n",
            "Epochs 23, E=0.5\n",
            "Epochs 24, E=0.5\n",
            "Epochs 25, E=0.5\n",
            "Epochs 26, E=0.0\n"
          ]
        }
      ],
      "source": [
        "p.fit(and_gate[[\"X1\", \"X2\"]].values, and_gate[\"Y\"].values)\n",
        "pe.fit(and_gate[[\"X1\", \"X2\"]].values, and_gate[\"Y\"].values)"
      ]
    },
    {
      "cell_type": "code",
      "execution_count": 1118,
      "metadata": {},
      "outputs": [],
      "source": [
        "y_pred = np.round(p.predict(and_gate[[\"X1\", \"X2\"]].values))\n",
        "y_pred_e = np.round(pe.predict(and_gate[[\"X1\", \"X2\"]].values))"
      ]
    },
    {
      "cell_type": "code",
      "execution_count": 1119,
      "metadata": {},
      "outputs": [
        {
          "name": "stdout",
          "output_type": "stream",
          "text": [
            "MSE: 0.0\n"
          ]
        },
        {
          "data": {
            "text/html": [
              "<div>\n",
              "<style scoped>\n",
              "    .dataframe tbody tr th:only-of-type {\n",
              "        vertical-align: middle;\n",
              "    }\n",
              "\n",
              "    .dataframe tbody tr th {\n",
              "        vertical-align: top;\n",
              "    }\n",
              "\n",
              "    .dataframe thead th {\n",
              "        text-align: right;\n",
              "    }\n",
              "</style>\n",
              "<table border=\"1\" class=\"dataframe\">\n",
              "  <thead>\n",
              "    <tr style=\"text-align: right;\">\n",
              "      <th></th>\n",
              "      <th>X1</th>\n",
              "      <th>X2</th>\n",
              "      <th>Y_target</th>\n",
              "      <th>Y_pred</th>\n",
              "    </tr>\n",
              "  </thead>\n",
              "  <tbody>\n",
              "    <tr>\n",
              "      <th>0</th>\n",
              "      <td>0</td>\n",
              "      <td>0</td>\n",
              "      <td>0</td>\n",
              "      <td>0</td>\n",
              "    </tr>\n",
              "    <tr>\n",
              "      <th>1</th>\n",
              "      <td>0</td>\n",
              "      <td>1</td>\n",
              "      <td>0</td>\n",
              "      <td>0</td>\n",
              "    </tr>\n",
              "    <tr>\n",
              "      <th>2</th>\n",
              "      <td>1</td>\n",
              "      <td>0</td>\n",
              "      <td>0</td>\n",
              "      <td>0</td>\n",
              "    </tr>\n",
              "    <tr>\n",
              "      <th>3</th>\n",
              "      <td>1</td>\n",
              "      <td>1</td>\n",
              "      <td>1</td>\n",
              "      <td>1</td>\n",
              "    </tr>\n",
              "  </tbody>\n",
              "</table>\n",
              "</div>"
            ],
            "text/plain": [
              "   X1  X2  Y_target  Y_pred\n",
              "0   0   0         0       0\n",
              "1   0   1         0       0\n",
              "2   1   0         0       0\n",
              "3   1   1         1       1"
            ]
          },
          "execution_count": 1119,
          "metadata": {},
          "output_type": "execute_result"
        }
      ],
      "source": [
        "print(f\"MSE: {mean_squared_error(and_gate['Y'], y_pred)}\")\n",
        "pd.DataFrame(\n",
        "    {# Split data into training and testing\n",
        "X_train, X_test, y_train, y_test = train_test_split(\n",
        "    X, Y, test_size=0.2, random_state=69\n",
        ")ed,\n",
        "    }\n",
        ")"
      ]
    },
    {
      "cell_type": "code",
      "execution_count": 1120,
      "metadata": {},
      "outputs": [
        {
          "name": "stdout",
          "output_type": "stream",
          "text": [
            "MSE: 0.0\n"
          ]
        },
        {
          "data": {
            "text/html": [
              "<div>\n",
              "<style scoped>\n",
              "    .dataframe tbody tr th:only-of-type {\n",
              "        vertical-align: middle;\n",
              "    }\n",
              "\n",
              "    .dataframe tbody tr th {\n",
              "        vertical-align: top;\n",
              "    }\n",
              "\n",
              "    .dataframe thead th {\n",
              "        text-align: right;\n",
              "    }\n",
              "</style>\n",
              "<table border=\"1\" class=\"dataframe\">\n",
              "  <thead>\n",
              "    <tr style=\"text-align: right;\">\n",
              "      <th></th>\n",
              "      <th>X1</th>\n",
              "      <th>X2</th>\n",
              "      <th>Y_target</th>\n",
              "      <th>Y_pred</th>\n",
              "    </tr>\n",
              "  </thead>\n",
              "  <tbody>\n",
              "    <tr>\n",
              "      <th>0</th>\n",
              "      <td>0</td>\n",
              "      <td>0</td>\n",
              "      <td>0</td>\n",
              "      <td>0</td>\n",
              "    </tr>\n",
              "    <tr>\n",
              "      <th>1</th>\n",
              "      <td>0</td>\n",
              "      <td>1</td>\n",
              "      <td>0</td>\n",
              "      <td>0</td>\n",
              "    </tr>\n",
              "    <tr>\n",
              "      <th>2</th>\n",
              "      <td>1</td>\n",
              "      <td>0</td>\n",
              "      <td>0</td>\n",
              "      <td>0</td>\n",
              "    </tr>\n",
              "    <tr>\n",
              "      <th>3</th>\n",
              "      <td>1</td>\n",
              "      <td>1</td>\n",
              "      <td>1</td>\n",
              "      <td>1</td>\n",
              "    </tr>\n",
              "  </tbody>\n",
              "</table>\n",
              "</div>"
            ],
            "text/plain": [
              "   X1  X2  Y_target  Y_pred\n",
              "0   0   0         0       0\n",
              "1   0   1         0       0\n",
              "2   1   0         0       0\n",
              "3   1   1         1       1"
            ]
          },
          "execution_count": 1120,
          "metadata": {},
          "output_type": "execute_result"
        }
      ],
      "source": [
        "print(f\"MSE: {mean_squared_error(and_gate['Y'], y_pred)}\")\n",
        "pd.DataFrame(\n",
        "    {\n",
        "        \"X1\": and_gate[\"X1\"],\n",
        "        \"X2\": and_gate[\"X2\"],\n",
        "        \"Y_target\": and_gate[\"Y\"],\n",
        "        \"Y_pred\": y_pred_e,\n",
        "    }\n",
        ")"
      ]
    }
  ],
  "metadata": {
    "colab": {
      "provenance": []
    },
    "kernelspec": {
      "display_name": "main",
      "language": "python",
      "name": "python3"
    },
    "language_info": {
      "codemirror_mode": {
        "name": "ipython",
        "version": 3
      },
      "file_extension": ".py",
      "mimetype": "text/x-python",
      "name": "python",
      "nbconvert_exporter": "python",
      "pygments_lexer": "ipython3",
      "version": "3.12.2"
    }
  },
  "nbformat": 4,
  "nbformat_minor": 0
}
