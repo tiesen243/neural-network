{
  "cells": [
    {
      "cell_type": "markdown",
      "metadata": {
        "id": "view-in-github",
        "colab_type": "text"
      },
      "source": [
        "<a href=\"https://colab.research.google.com/github/tiesen243/neural-network/blob/main/multilayer-perceptron.ipynb\" target=\"_parent\"><img src=\"https://colab.research.google.com/assets/colab-badge.svg\" alt=\"Open In Colab\"/></a>"
      ]
    },
    {
      "cell_type": "markdown",
      "metadata": {
        "id": "7no3AYuqv6qu"
      },
      "source": [
        "<h1 align='center'>Multiplayer Perceptron</hh1>"
      ]
    },
    {
      "cell_type": "code",
      "execution_count": 216,
      "metadata": {
        "id": "yDaM_KMqv6qz"
      },
      "outputs": [],
      "source": [
        "# Import libraries\n",
        "import numpy as np\n",
        "import pandas as pd"
      ]
    },
    {
      "cell_type": "markdown",
      "metadata": {
        "id": "wtIAU-LYv6q1"
      },
      "source": [
        "### Description\n",
        "- This model have 3 layers, 1 input layer, 1 hidden layer and 1 output layer.\n",
        "- The input layer have 2 neurons, the hidden layer have 3 neurons and the output layer have 2 neurons.\n",
        "- The activation function used in the hidden layer is the sigmoid function and in the output layer is the linear function."
      ]
    },
    {
      "cell_type": "markdown",
      "metadata": {
        "id": "EskYwIjZv6q3"
      },
      "source": [
        "### Prepare"
      ]
    },
    {
      "cell_type": "code",
      "execution_count": 217,
      "metadata": {
        "id": "X5xCCESdv6q6"
      },
      "outputs": [],
      "source": [
        "# Activation function\n",
        "def sigmoid(x):\n",
        "    return 1 / (1 + np.exp(-x))\n",
        "\n",
        "\n",
        "def linear(x):\n",
        "    return x"
      ]
    },
    {
      "cell_type": "code",
      "execution_count": 218,
      "metadata": {
        "id": "X7n-epuBv6q7"
      },
      "outputs": [],
      "source": [
        "# Derivative of the activation function\n",
        "def d_sigmoid(x):\n",
        "    return sigmoid(x) * (1 - sigmoid(x))\n",
        "\n",
        "\n",
        "def d_linear(x):\n",
        "    return 1\n",
        "\n",
        "\n",
        "def d_tanh(x):\n",
        "    return 1 - np.tanh(x) ** 2"
      ]
    },
    {
      "cell_type": "markdown",
      "source": [
        "### Test"
      ],
      "metadata": {
        "id": "jmemqUHx0B5D"
      }
    },
    {
      "cell_type": "code",
      "source": [
        "# y = 3x^3 - 6x\n",
        "\n",
        "data = pd.DataFrame(\n",
        "    { \"X\": [1, 2, 3], \"D\": [-3, 12, 63] }\n",
        ")\n",
        "\n",
        "hidden_weights = pd.DataFrame({ \"W1\": [0.5], \"W2\": [0.4] })\n",
        "output_weights = pd.DataFrame({ \"W1\": [0.7, 0.8] })"
      ],
      "metadata": {
        "id": "sIrg9h-i0qA5"
      },
      "execution_count": 219,
      "outputs": []
    },
    {
      "cell_type": "code",
      "source": [
        "# Get data train\n",
        "X = data['X'].values\n",
        "D = data['D'].values\n",
        "\n",
        "# Initial state\n",
        "n = 0.5\n",
        "V = np.copy(hidden_weights.values)\n",
        "W = np.copy(output_weights.values)\n",
        "E = 0\n",
        "epsilon = 0.5\n",
        "\n",
        "for e in range(3):\n",
        "  print(f'epochs {e}')\n",
        "  for i, x_i in enumerate(X):\n",
        "    # Propagation\n",
        "\n",
        "    net_h = np.dot(hidden_weights.T, x_i)\n",
        "    z = np.tanh(net_h)\n",
        "\n",
        "    net_o = np.dot(output_weights.T, z)\n",
        "    y = linear(net_o)\n",
        "\n",
        "    # Back propagation\n",
        "\n",
        "    phi_o = (D[i] - y) * 1\n",
        "    D_o = n * phi_o * z.T\n",
        "\n",
        "    phi_h = np.multiply(W * phi_o, d_tanh(net_h))\n",
        "    D_h = np.dot(n * phi_h, x_i.T)\n",
        "\n",
        "    # Update hidden layer weights and output layer weight\n",
        "    W += D_o.T\n",
        "    V += D_h.T\n",
        "\n",
        "    # Update Error\n",
        "    E += 0.5 * (D[i] - y)**2\n",
        "\n",
        "    print(f\"\"\"\n",
        "    k = {i+1}\n",
        "    net_h = {net_h}\n",
        "    z     = {z}\n",
        "    net_o = {net_o}\n",
        "    y     = {y}\n",
        "    phi_o = {phi_o}\n",
        "    D_o   = {D_o}\n",
        "    W     = {W}\n",
        "    phi_h = {phi_h}\n",
        "    D_h   = {D_h}\n",
        "    V     = {V}\n",
        "    Error = {E}\n",
        "    \"\"\")\n",
        "\n",
        "  # Check error\n",
        "  if (E < epsilon): break\n",
        "  else: E = 0"
      ],
      "metadata": {
        "colab": {
          "base_uri": "https://localhost:8080/"
        },
        "id": "KVRsXxF01aBM",
        "outputId": "5b152518-c590-4656-e7b4-83683b7c7334"
      },
      "execution_count": 227,
      "outputs": [
        {
          "output_type": "stream",
          "name": "stdout",
          "text": [
            "epochs 0\n",
            "\n",
            "    k = 1\n",
            "    net_h = [[0.5]\n",
            " [0.4]]\n",
            "    z     = [[0.46211716]\n",
            " [0.37994896]]\n",
            "    net_o = [[0.62744118]]\n",
            "    y     = [[0.62744118]]\n",
            "    phi_o = [[-3.62744118]]\n",
            "    D_o   = [[-0.8381514  -0.68912126]]\n",
            "    W     = [[-0.1381514 ]\n",
            " [ 0.11087874]]\n",
            "    phi_h = [[-1.99695502]\n",
            " [-2.48302349]]\n",
            "    D_h   = [[-0.99847751]\n",
            " [-1.24151175]]\n",
            "    V     = [[-0.49847751 -0.84151175]]\n",
            "    Error = [[6.57916476]]\n",
            "    \n",
            "\n",
            "    k = 2\n",
            "    net_h = [[1. ]\n",
            " [0.8]]\n",
            "    z     = [[0.76159416]\n",
            " [0.66403677]]\n",
            "    net_o = [[1.06434533]]\n",
            "    y     = [[1.06434533]]\n",
            "    phi_o = [[10.93565467]]\n",
            "    D_o   = [[4.16426535 3.63083841]]\n",
            "    W     = [[4.02611394]\n",
            " [3.74171715]]\n",
            "    phi_h = [[-0.63448717]\n",
            " [ 0.67787209]]\n",
            "    D_h   = [[-0.63448717]\n",
            " [ 0.67787209]]\n",
            "    V     = [[-1.13296468 -0.16363966]]\n",
            "    Error = [[66.37343634]]\n",
            "    \n",
            "\n",
            "    k = 3\n",
            "    net_h = [[1.5]\n",
            " [1.2]]\n",
            "    z     = [[0.90514825]\n",
            " [0.83365461]]\n",
            "    net_o = [[1.30052746]]\n",
            "    y     = [[1.30052746]]\n",
            "    phi_o = [[61.69947254]]\n",
            "    D_o   = [[27.92358491 25.71802477]]\n",
            "    W     = [[31.94969885]\n",
            " [29.45974191]]\n",
            "    phi_h = [[44.88917474]\n",
            " [70.41751859]]\n",
            "    D_h   = [[ 67.33376211]\n",
            " [105.62627788]]\n",
            "    V     = [[ 66.20079743 105.46263822]]\n",
            "    Error = [[1969.785892]]\n",
            "    \n",
            "epochs 1\n",
            "\n",
            "    k = 1\n",
            "    net_h = [[0.5]\n",
            " [0.4]]\n",
            "    z     = [[0.46211716]\n",
            " [0.37994896]]\n",
            "    net_o = [[0.62744118]]\n",
            "    y     = [[0.62744118]]\n",
            "    phi_o = [[-3.62744118]]\n",
            "    D_o   = [[-0.8381514  -0.68912126]]\n",
            "    W     = [[31.11154745]\n",
            " [28.77062066]]\n",
            "    phi_h = [[-91.1458738 ]\n",
            " [-91.43653913]]\n",
            "    D_h   = [[-45.5729369 ]\n",
            " [-45.71826957]]\n",
            "    V     = [[20.62786053 59.74436866]]\n",
            "    Error = [[6.57916476]]\n",
            "    \n",
            "\n",
            "    k = 2\n",
            "    net_h = [[1. ]\n",
            " [0.8]]\n",
            "    z     = [[0.76159416]\n",
            " [0.66403677]]\n",
            "    net_o = [[1.06434533]]\n",
            "    y     = [[1.06434533]]\n",
            "    phi_o = [[10.93565467]]\n",
            "    D_o   = [[4.16426535 3.63083841]]\n",
            "    W     = [[35.27581279]\n",
            " [32.40145906]]\n",
            "    phi_h = [[142.88582887]\n",
            " [175.89305209]]\n",
            "    D_h   = [[142.88582887]\n",
            " [175.89305209]]\n",
            "    V     = [[163.5136894  235.63742075]]\n",
            "    Error = [[66.37343634]]\n",
            "    \n",
            "\n",
            "    k = 3\n",
            "    net_h = [[1.5]\n",
            " [1.2]]\n",
            "    z     = [[0.90514825]\n",
            " [0.83365461]]\n",
            "    net_o = [[1.30052746]]\n",
            "    y     = [[1.30052746]]\n",
            "    phi_o = [[61.69947254]]\n",
            "    D_o   = [[27.92358491 25.71802477]]\n",
            "    W     = [[63.1993977 ]\n",
            " [58.11948383]]\n",
            "    phi_h = [[393.30782663]\n",
            " [609.78162025]]\n",
            "    D_h   = [[589.96173995]\n",
            " [914.67243038]]\n",
            "    V     = [[ 753.47542935 1150.30985113]]\n",
            "    Error = [[1969.785892]]\n",
            "    \n",
            "epochs 2\n",
            "\n",
            "    k = 1\n",
            "    net_h = [[0.5]\n",
            " [0.4]]\n",
            "    z     = [[0.46211716]\n",
            " [0.37994896]]\n",
            "    net_o = [[0.62744118]]\n",
            "    y     = [[0.62744118]]\n",
            "    phi_o = [[-3.62744118]]\n",
            "    D_o   = [[-0.8381514  -0.68912126]]\n",
            "    W     = [[62.3612463 ]\n",
            " [57.43036257]]\n",
            "    phi_h = [[-180.29479257]\n",
            " [-180.39005477]]\n",
            "    D_h   = [[-90.14739629]\n",
            " [-90.19502739]]\n",
            "    V     = [[ 663.32803306 1060.11482374]]\n",
            "    Error = [[6.57916476]]\n",
            "    \n",
            "\n",
            "    k = 2\n",
            "    net_h = [[1. ]\n",
            " [0.8]]\n",
            "    z     = [[0.76159416]\n",
            " [0.66403677]]\n",
            "    net_o = [[1.06434533]]\n",
            "    y     = [[1.06434533]]\n",
            "    phi_o = [[10.93565467]]\n",
            "    D_o   = [[4.16426535 3.63083841]]\n",
            "    W     = [[66.52551165]\n",
            " [61.06120098]]\n",
            "    phi_h = [[286.40614492]\n",
            " [351.1082321 ]]\n",
            "    D_h   = [[286.40614492]\n",
            " [351.1082321 ]]\n",
            "    V     = [[ 949.73417798 1411.22305584]]\n",
            "    Error = [[66.37343634]]\n",
            "    \n",
            "\n",
            "    k = 3\n",
            "    net_h = [[1.5]\n",
            " [1.2]]\n",
            "    z     = [[0.90514825]\n",
            " [0.83365461]]\n",
            "    net_o = [[1.30052746]]\n",
            "    y     = [[1.30052746]]\n",
            "    phi_o = [[61.69947254]]\n",
            "    D_o   = [[27.92358491 25.71802477]]\n",
            "    W     = [[94.44909655]\n",
            " [86.77922574]]\n",
            "    phi_h = [[ 741.72647852]\n",
            " [1149.14572191]]\n",
            "    D_h   = [[1112.58971778]\n",
            " [1723.71858287]]\n",
            "    V     = [[2062.32389576 3134.94163871]]\n",
            "    Error = [[1969.785892]]\n",
            "    \n"
          ]
        }
      ]
    },
    {
      "cell_type": "markdown",
      "metadata": {
        "id": "EDJndDVrv6q_"
      },
      "source": [
        "### Multiplayer Perceptron Model"
      ]
    },
    {
      "cell_type": "code",
      "execution_count": 221,
      "metadata": {
        "id": "7-XNBXSev6rA"
      },
      "outputs": [],
      "source": [
        "class MultiplayerPerceptron:\n",
        "\n",
        "  def __init__(\n",
        "      self,\n",
        "      learning_rate=0.1,\n",
        "      epochs=1000,\n",
        "      a_hidden=np.tanh,\n",
        "      a_output=linear,\n",
        "      d_hidden=d_tanh,\n",
        "      d_output=d_linear,\n",
        "  ):\n",
        "      self.lr = learning_rate\n",
        "      self.epochs = epochs\n",
        "      self.a_hidden = a_hidden\n",
        "      self.a_output = a_output\n",
        "      self.d_hidden = d_hidden\n",
        "      self.d_output = d_output\n",
        "\n",
        "      self.Wh = None\n",
        "      self.Wo = None\n",
        "\n",
        "  def fit(self, X, D):\n",
        "    self.Wh = np.copy(hidden_weights.values)\n",
        "    self.Wo = np.copy(output_weights.values)\n",
        "\n",
        "    print(self.Wh, self.Wo)\n",
        "\n",
        "    # for _ in range(self.epochs):\n",
        "      # for idx, x_i in enumerate(X):\n",
        "      #   net_h = np.dot(hidden_weights.T, x_i)\n",
        "      #   z = np.tanh(net_h)\n",
        "\n",
        "      #   net_o = np.dot(output_weights.T, z)\n",
        "      #   y = linear(net_o)\n",
        "\n",
        "      #   # Back propagation\n",
        "\n",
        "      #   phi_o = (D[i] - y) * self.d_output(net_o)\n",
        "      #   D_o = self.lr * phi_o * z.T\n",
        "\n",
        "      #   phi_h = np.multiply(W * phi_o, self.d_hidden(net_h))\n",
        "      #   D_h = np.dot(self.lr * phi_h, x_i.T)\n",
        "\n",
        "      #   self.Wh += D_o.T\n",
        "      # self.Wo += D_h.T\n",
        "\n",
        "  def predict(self, X):\n",
        "    net_h = np.dot(hidden_weights.T, X)\n",
        "    z = np.tanh(net_h)\n",
        "\n",
        "    net_o = np.dot(output_weights.T, z)\n",
        "    y = linear(net_o)\n",
        "\n",
        "    return y"
      ]
    },
    {
      "cell_type": "code",
      "execution_count": 222,
      "metadata": {
        "id": "VyU_giKiv6rC",
        "outputId": "68c1831b-5570-4206-ab7f-0032fd374862",
        "colab": {
          "base_uri": "https://localhost:8080/"
        }
      },
      "outputs": [
        {
          "output_type": "stream",
          "name": "stdout",
          "text": [
            "[[0.5 0.4]] [[0.7]\n",
            " [0.8]]\n"
          ]
        }
      ],
      "source": [
        "mlp = MultiplayerPerceptron(\n",
        "    learning_rate=0.3,\n",
        "    epochs=1,\n",
        "    a_hidden=np.tanh,\n",
        "    a_output=linear,\n",
        "    d_hidden=d_tanh,\n",
        "    d_output=d_linear,\n",
        ")\n",
        "\n",
        "\n",
        "\n",
        "mlp.fit(data['X'].values, data['D'].values)"
      ]
    }
  ],
  "metadata": {
    "kernelspec": {
      "display_name": "main",
      "language": "python",
      "name": "python3"
    },
    "language_info": {
      "codemirror_mode": {
        "name": "ipython",
        "version": 3
      },
      "file_extension": ".py",
      "mimetype": "text/x-python",
      "name": "python",
      "nbconvert_exporter": "python",
      "pygments_lexer": "ipython3",
      "version": "3.12.2"
    },
    "colab": {
      "provenance": [],
      "include_colab_link": true
    }
  },
  "nbformat": 4,
  "nbformat_minor": 0
}