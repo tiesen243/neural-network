{
 "cells": [
  {
   "cell_type": "markdown",
   "metadata": {},
   "source": [
    "<h1 align='center'>Multiplayer Perceptron</hh1>"
   ]
  },
  {
   "cell_type": "code",
   "execution_count": 39,
   "metadata": {},
   "outputs": [],
   "source": [
    "# Import libraries\n",
    "import numpy as np\n",
    "import pandas as pd"
   ]
  },
  {
   "cell_type": "markdown",
   "metadata": {},
   "source": [
    "### Description\n",
    "- This model have 3 layers, 1 input layer, 1 hidden layer and 1 output layer.\n",
    "- The input layer have 2 neurons, the hidden layer have 3 neurons and the output layer have 2 neurons.\n",
    "- The activation function used in the hidden layer is the sigmoid function and in the output layer is the linear function."
   ]
  },
  {
   "cell_type": "markdown",
   "metadata": {},
   "source": [
    "### Prepare "
   ]
  },
  {
   "cell_type": "code",
   "execution_count": 40,
   "metadata": {},
   "outputs": [],
   "source": [
    "data = pd.DataFrame(\n",
    "    {\"X1\": [0, 1, -1], \"X2\": [1, 2, -1], \"D1\": [1, 2, 0], \"D2\": [1, 3, -1]}\n",
    ")\n",
    "\n",
    "hidden_weights = pd.DataFrame({\"W1\": [0.1, 0.2, 0.3], \"W2\": [-0.5, 0.4, 0.2]})\n",
    "output_weights = pd.DataFrame({\"W1\": [0.5, 0.4], \"W2\": [0.3, -0.2], \"W3\": [0.6, 0.3]})"
   ]
  },
  {
   "cell_type": "code",
   "execution_count": 41,
   "metadata": {},
   "outputs": [],
   "source": [
    "# Dataset\n",
    "X = data[[\"X1\", \"X2\"]].values\n",
    "D = data[[\"D1\", \"D2\"]].values"
   ]
  },
  {
   "cell_type": "code",
   "execution_count": 42,
   "metadata": {},
   "outputs": [],
   "source": [
    "# Activation function\n",
    "def sigmoid(x):\n",
    "    return 1 / (1 + np.exp(-x))\n",
    "\n",
    "\n",
    "def linear(x):\n",
    "    return x"
   ]
  },
  {
   "cell_type": "code",
   "execution_count": 43,
   "metadata": {},
   "outputs": [],
   "source": [
    "# Derivative of the activation function\n",
    "def d_sigmoid(x):\n",
    "    return sigmoid(x) * (1 - sigmoid(x))\n",
    "\n",
    "\n",
    "def d_linear(x):\n",
    "    return 1\n",
    "\n",
    "\n",
    "def d_tanh(x):\n",
    "    return 1 - np.tanh(x) ** 2"
   ]
  },
  {
   "cell_type": "code",
   "execution_count": 44,
   "metadata": {},
   "outputs": [
    {
     "data": {
      "text/html": [
       "<div>\n",
       "<style scoped>\n",
       "    .dataframe tbody tr th:only-of-type {\n",
       "        vertical-align: middle;\n",
       "    }\n",
       "\n",
       "    .dataframe tbody tr th {\n",
       "        vertical-align: top;\n",
       "    }\n",
       "\n",
       "    .dataframe thead th {\n",
       "        text-align: right;\n",
       "    }\n",
       "</style>\n",
       "<table border=\"1\" class=\"dataframe\">\n",
       "  <thead>\n",
       "    <tr style=\"text-align: right;\">\n",
       "      <th></th>\n",
       "      <th>W1</th>\n",
       "      <th>W2</th>\n",
       "      <th>W3</th>\n",
       "    </tr>\n",
       "  </thead>\n",
       "  <tbody>\n",
       "    <tr>\n",
       "      <th>0</th>\n",
       "      <td>0.534174</td>\n",
       "      <td>0.354191</td>\n",
       "      <td>0.649769</td>\n",
       "    </tr>\n",
       "    <tr>\n",
       "      <th>1</th>\n",
       "      <td>0.491037</td>\n",
       "      <td>-0.055638</td>\n",
       "      <td>0.432582</td>\n",
       "    </tr>\n",
       "  </tbody>\n",
       "</table>\n",
       "</div>"
      ],
      "text/plain": [
       "         W1        W2        W3\n",
       "0  0.534174  0.354191  0.649769\n",
       "1  0.491037 -0.055638  0.432582"
      ]
     },
     "execution_count": 44,
     "metadata": {},
     "output_type": "execute_result"
    }
   ],
   "source": [
    "net_h = np.dot(X[0], hidden_weights.values.T)\n",
    "z = sigmoid(np.dot(X[0], hidden_weights.values.T))\n",
    "\n",
    "net_o = np.dot(z, output_weights.values.T)\n",
    "y = linear(np.dot(z, output_weights.values.T))\n",
    "\n",
    "\n",
    "delta_o = (D[0] - y) * d_linear(net_o)\n",
    "output_weights + 0.3 * np.dot(delta_o.reshape(-1, 1), z.reshape(1, -1))"
   ]
  },
  {
   "cell_type": "markdown",
   "metadata": {},
   "source": [
    "### Multiplayer Perceptron Model"
   ]
  },
  {
   "cell_type": "code",
   "execution_count": 45,
   "metadata": {},
   "outputs": [],
   "source": [
    "class MultiplayerPerceptron:\n",
    "    def __init__(\n",
    "        self,\n",
    "        learning_rate=0.1,\n",
    "        epochs=1000,\n",
    "        a_hidden=sigmoid,\n",
    "        a_output=linear,\n",
    "        d_hidden=d_sigmoid,\n",
    "        d_output=d_linear,\n",
    "    ):\n",
    "        self.lr = learning_rate\n",
    "        self.epochs = epochs\n",
    "        self.a_hidden = a_hidden\n",
    "        self.a_output = a_output\n",
    "        self.d_hidden = d_hidden\n",
    "        self.d_output = d_output\n",
    "\n",
    "        self.Wh = hidden_weights.values\n",
    "        self.Wo = output_weights.values\n",
    "\n",
    "    def fit(self, X, D):\n",
    "        for _ in range(self.epochs):\n",
    "            for idx, x_i in enumerate(X):\n",
    "                z, y = self.predict(x_i)\n",
    "\n",
    "                # update output weights\n",
    "                delta_o = (D[idx] - y) * self.d_output(y)\n",
    "                self.Wo += self.lr * np.dot(delta_o.reshape(-1, 1), z.reshape(1, -1))\n",
    "\n",
    "                # update hidden weights\n",
    "                delta_h = self.d_hidden(z) * np.dot(delta_o, self.Wo)\n",
    "                self.Wh += self.lr * np.dot(delta_h.reshape(-1, 1), x_i.reshape(1, -1))\n",
    "\n",
    "                break\n",
    "\n",
    "    def predict(self, X):\n",
    "        # Hidden layer\n",
    "        net_h = np.dot(X, self.Wh.T)\n",
    "        z = self.a_hidden(net_h)\n",
    "\n",
    "        # Output layer\n",
    "        net_o = np.dot(z, self.Wo.T)\n",
    "        y = self.a_output(net_o)\n",
    "\n",
    "        return z, y"
   ]
  },
  {
   "cell_type": "code",
   "execution_count": 46,
   "metadata": {},
   "outputs": [
    {
     "data": {
      "text/html": [
       "<div>\n",
       "<style scoped>\n",
       "    .dataframe tbody tr th:only-of-type {\n",
       "        vertical-align: middle;\n",
       "    }\n",
       "\n",
       "    .dataframe tbody tr th {\n",
       "        vertical-align: top;\n",
       "    }\n",
       "\n",
       "    .dataframe thead th {\n",
       "        text-align: right;\n",
       "    }\n",
       "</style>\n",
       "<table border=\"1\" class=\"dataframe\">\n",
       "  <thead>\n",
       "    <tr style=\"text-align: right;\">\n",
       "      <th></th>\n",
       "      <th>W1</th>\n",
       "      <th>W2</th>\n",
       "      <th>W3</th>\n",
       "    </tr>\n",
       "  </thead>\n",
       "  <tbody>\n",
       "    <tr>\n",
       "      <th>0</th>\n",
       "      <td>0.534174</td>\n",
       "      <td>0.354191</td>\n",
       "      <td>0.649769</td>\n",
       "    </tr>\n",
       "    <tr>\n",
       "      <th>1</th>\n",
       "      <td>0.491037</td>\n",
       "      <td>-0.055638</td>\n",
       "      <td>0.432582</td>\n",
       "    </tr>\n",
       "  </tbody>\n",
       "</table>\n",
       "</div>"
      ],
      "text/plain": [
       "         W1        W2        W3\n",
       "0  0.534174  0.354191  0.649769\n",
       "1  0.491037 -0.055638  0.432582"
      ]
     },
     "execution_count": 46,
     "metadata": {},
     "output_type": "execute_result"
    }
   ],
   "source": [
    "net_h = np.dot(X[0], hidden_weights.values.T)\n",
    "z = sigmoid(net_h)\n",
    "\n",
    "net_o = np.dot(z, output_weights.values.T)\n",
    "y = linear(np.dot(z, output_weights.values.T))\n",
    "\n",
    "\n",
    "delta_o = (D[0] - y) * d_linear(net_o)\n",
    "output_weights + 0.3 * np.dot(delta_o.reshape(-1, 1), z.reshape(1, -1))"
   ]
  },
  {
   "cell_type": "code",
   "execution_count": 47,
   "metadata": {},
   "outputs": [],
   "source": [
    "mlp = MultiplayerPerceptron(\n",
    "    learning_rate=0.3,\n",
    "    epochs=1,\n",
    "    a_hidden=sigmoid,\n",
    "    a_output=linear,\n",
    "    d_hidden=d_sigmoid,\n",
    "    d_output=d_linear,\n",
    ")\n",
    "mlp.fit(X, D)"
   ]
  },
  {
   "cell_type": "code",
   "execution_count": 52,
   "metadata": {},
   "outputs": [
    {
     "data": {
      "text/plain": [
       "array([[0.37737463, 0.00914217],\n",
       "       [0.40584985, 0.74283849],\n",
       "       [0.68039258, 0.852484  ]])"
      ]
     },
     "execution_count": 52,
     "metadata": {},
     "output_type": "execute_result"
    }
   ],
   "source": [
    "mlp.Wh"
   ]
  },
  {
   "cell_type": "code",
   "execution_count": 53,
   "metadata": {},
   "outputs": [
    {
     "data": {
      "text/plain": [
       "array([[0.55169794, 0.55113572, 0.83895215],\n",
       "       [0.50401749, 0.37932511, 0.85244523]])"
      ]
     },
     "execution_count": 53,
     "metadata": {},
     "output_type": "execute_result"
    }
   ],
   "source": [
    "mlp.Wo"
   ]
  }
 ],
 "metadata": {
  "kernelspec": {
   "display_name": "main",
   "language": "python",
   "name": "python3"
  },
  "language_info": {
   "codemirror_mode": {
    "name": "ipython",
    "version": 3
   },
   "file_extension": ".py",
   "mimetype": "text/x-python",
   "name": "python",
   "nbconvert_exporter": "python",
   "pygments_lexer": "ipython3",
   "version": "3.12.2"
  }
 },
 "nbformat": 4,
 "nbformat_minor": 2
}
