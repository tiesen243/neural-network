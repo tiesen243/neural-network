{
  "cells": [
    {
      "cell_type": "markdown",
      "metadata": {
        "id": "view-in-github",
        "colab_type": "text"
      },
      "source": [
        "<a href=\"https://colab.research.google.com/github/tiesen243/neural-network/blob/main/multilayer-perceptron.ipynb\" target=\"_parent\"><img src=\"https://colab.research.google.com/assets/colab-badge.svg\" alt=\"Open In Colab\"/></a>"
      ]
    },
    {
      "cell_type": "markdown",
      "metadata": {
        "id": "7no3AYuqv6qu"
      },
      "source": [
        "<h1 align='center'>Multiplayer Perceptron</hh1>"
      ]
    },
    {
      "cell_type": "code",
      "execution_count": 334,
      "metadata": {
        "id": "yDaM_KMqv6qz"
      },
      "outputs": [],
      "source": [
        "# Import libraries\n",
        "import numpy as np\n",
        "import pandas as pd"
      ]
    },
    {
      "cell_type": "markdown",
      "metadata": {
        "id": "wtIAU-LYv6q1"
      },
      "source": [
        "### Description\n",
        "- This model have 3 layers, 1 input layer, 1 hidden layer and 1 output layer.\n",
        "- The input layer have 2 neurons, the hidden layer have 3 neurons and the output layer have 2 neurons.\n",
        "- The activation function used in the hidden layer is the sigmoid function and in the output layer is the linear function."
      ]
    },
    {
      "cell_type": "markdown",
      "metadata": {
        "id": "EskYwIjZv6q3"
      },
      "source": [
        "### Prepare"
      ]
    },
    {
      "cell_type": "code",
      "execution_count": 335,
      "metadata": {
        "id": "X5xCCESdv6q6"
      },
      "outputs": [],
      "source": [
        "# Activation function\n",
        "def sigmoid(x):\n",
        "    return 1 / (1 + np.exp(-x))\n",
        "\n",
        "\n",
        "def linear(x):\n",
        "    return x"
      ]
    },
    {
      "cell_type": "code",
      "execution_count": 336,
      "metadata": {
        "id": "X7n-epuBv6q7"
      },
      "outputs": [],
      "source": [
        "# Derivative of the activation function\n",
        "def d_sigmoid(x):\n",
        "    return sigmoid(x) * (1 - sigmoid(x))\n",
        "\n",
        "\n",
        "def d_linear(x):\n",
        "    return 1\n",
        "\n",
        "\n",
        "def d_tanh(x):\n",
        "    return 1 - np.tanh(x) ** 2"
      ]
    },
    {
      "cell_type": "markdown",
      "source": [
        "### Test"
      ],
      "metadata": {
        "id": "jmemqUHx0B5D"
      }
    },
    {
      "cell_type": "code",
      "source": [
        "# y = 3x^3 - 6x\n",
        "\n",
        "data = pd.DataFrame(\n",
        "    { \"X\": [1, 2, 3], \"D\": [-3, 12, 63] }\n",
        ")\n",
        "\n",
        "data_2 = pd.DataFrame(\n",
        "    { \"X1\": [0.5, -0.2, 0.7], \"X2\": [0.8, 1.2, -0.5], \"D\": [3, 6, 9] }\n",
        ")\n",
        "\n",
        "hidden_weights = pd.DataFrame({ \"W1\": [0.5], \"W2\": [0.4] })\n",
        "output_weights = pd.DataFrame({ \"W1\": [0.7, 0.8] })\n",
        "\n",
        "hidden_weights_2 = pd.DataFrame({ \"W1\": [0.7, -0.8], \"W2\": [0.6, 0.5] })\n",
        "output_weights_2 = pd.DataFrame({ \"W1\": [-0.2, 0.3] })"
      ],
      "metadata": {
        "id": "sIrg9h-i0qA5"
      },
      "execution_count": 337,
      "outputs": []
    },
    {
      "cell_type": "code",
      "source": [
        "def fit(X, D, V, W, n):\n",
        "  # Initial state\n",
        "  E = 0\n",
        "  epsilon = 0.5\n",
        "\n",
        "  for e in range(3):\n",
        "    print(f'epochs {e}')\n",
        "    for i, x_i in enumerate(X):\n",
        "      # Propagation\n",
        "\n",
        "      net_h = np.dot(V.T, x_i)\n",
        "      z = np.tanh(net_h)\n",
        "\n",
        "      net_o = np.dot(W.T, z)\n",
        "      y = linear(net_o)\n",
        "\n",
        "      # Back propagation\n",
        "\n",
        "      phi_o = (D[i] - y) * 1\n",
        "      D_o = n * phi_o * z.T\n",
        "\n",
        "      phi_h = np.multiply(W * phi_o, d_tanh(net_h))\n",
        "      D_h = np.dot(n * phi_h, x_i.T)\n",
        "\n",
        "      # Update hidden layer weights and output layer weight\n",
        "      W += D_o.reshape(2,1)\n",
        "      V += D_h.T\n",
        "\n",
        "      # Update Error\n",
        "      E += 0.5 * (D[i] - y)**2\n",
        "\n",
        "      print(f\"\"\"\n",
        "      k = {i+1}\n",
        "      net_h = {net_h}\n",
        "      z     = {z}\n",
        "      net_o = {net_o}\n",
        "      y     = {y}\n",
        "      phi_o = {phi_o}\n",
        "      D_o   = {D_o}\n",
        "      W     = {W}\n",
        "      phi_h = {phi_h}\n",
        "      D_h   = {D_h}\n",
        "      V     = {V}\n",
        "      Error = {E}\n",
        "      \"\"\")\n",
        "      break\n",
        "\n",
        "    # Check error\n",
        "    if (E < epsilon): break\n",
        "    else: E = 0"
      ],
      "metadata": {
        "id": "KVRsXxF01aBM"
      },
      "execution_count": 414,
      "outputs": []
    },
    {
      "cell_type": "code",
      "source": [
        "# Get data train\n",
        "X_1 = data['X'].values\n",
        "D_1 = data['D'].values\n",
        "\n",
        "V_1 = np.copy(hidden_weights.values)\n",
        "W_1 = np.copy(output_weights.values)\n",
        "\n",
        "fit(X_1, D_1, V_1, W_1, 0.5)"
      ],
      "metadata": {
        "colab": {
          "base_uri": "https://localhost:8080/"
        },
        "id": "b43b7XWANpRb",
        "outputId": "0b317cf9-e5b3-45a7-d703-d5c96ff61ba6"
      },
      "execution_count": 419,
      "outputs": [
        {
          "output_type": "stream",
          "name": "stdout",
          "text": [
            "epochs 0\n",
            "\n",
            "      k = 1\n",
            "      net_h = [[0.5]\n",
            " [0.4]]\n",
            "      z     = [[0.46211716]\n",
            " [0.37994896]]\n",
            "      net_o = [[0.62744118]]\n",
            "      y     = [[0.62744118]]\n",
            "      phi_o = [[-3.62744118]]\n",
            "      D_o   = [[-0.8381514  -0.68912126]]\n",
            "      W     = [[-0.1381514 ]\n",
            " [ 0.11087874]]\n",
            "      phi_h = [[-1.99695502]\n",
            " [-2.48302349]]\n",
            "      D_h   = [[-0.99847751]\n",
            " [-1.24151175]]\n",
            "      V     = [[-0.49847751 -0.84151175]]\n",
            "      Error = [[6.57916476]]\n",
            "      \n",
            "epochs 1\n",
            "\n",
            "      k = 1\n",
            "      net_h = [[-0.49847751]\n",
            " [-0.84151175]]\n",
            "      z     = [[-0.46091896]\n",
            " [-0.68660895]]\n",
            "      net_o = [[-0.01245374]]\n",
            "      y     = [[-0.01245374]]\n",
            "      phi_o = [[-2.98754626]]\n",
            "      D_o   = [[0.68850836 1.02563801]]\n",
            "      W     = [[0.55035695]\n",
            " [1.13651675]]\n",
            "      phi_h = [[ 0.32504996]\n",
            " [-0.17509104]]\n",
            "      D_h   = [[ 0.16252498]\n",
            " [-0.08754552]]\n",
            "      V     = [[-0.33595253 -0.92905727]]\n",
            "      Error = [[4.46271634]]\n",
            "      \n",
            "epochs 2\n",
            "\n",
            "      k = 1\n",
            "      net_h = [[-0.33595253]\n",
            " [-0.92905727]]\n",
            "      z     = [[-0.32385921]\n",
            " [-0.73015406]]\n",
            "      net_o = [[-1.00807049]]\n",
            "      y     = [[-1.00807049]]\n",
            "      phi_o = [[-1.99192951]]\n",
            "      D_o   = [[0.32255235 0.72720771]]\n",
            "      W     = [[0.87290931]\n",
            " [1.86372446]]\n",
            "      phi_h = [[-0.98128998]\n",
            " [-1.05694033]]\n",
            "      D_h   = [[-0.49064499]\n",
            " [-0.52847017]]\n",
            "      V     = [[-0.82659752 -1.45752743]]\n",
            "      Error = [[1.9838916]]\n",
            "      \n"
          ]
        }
      ]
    },
    {
      "cell_type": "code",
      "source": [
        "# Get data train\n",
        "X_2 = data_2[['X1','X2']].values\n",
        "D_2 = data_2['D'].values\n",
        "\n",
        "V_2 = np.copy(hidden_weights_2.values)\n",
        "W_2 = np.copy(output_weights_2.values)\n",
        "\n",
        "fit(X_2, D_2, V_2, W_2, 0.3)"
      ],
      "metadata": {
        "colab": {
          "base_uri": "https://localhost:8080/"
        },
        "id": "42gZc3ymLXYm",
        "outputId": "f91b8c18-46a8-4895-d386-f660d656dd48"
      },
      "execution_count": 420,
      "outputs": [
        {
          "output_type": "stream",
          "name": "stdout",
          "text": [
            "epochs 0\n",
            "\n",
            "      k = 1\n",
            "      net_h = [-0.29  0.7 ]\n",
            "      z     = [-0.28213481  0.60436778]\n",
            "      net_o = [0.2377373]\n",
            "      y     = [0.2377373]\n",
            "      phi_o = [2.7622627]\n",
            "      D_o   = [-0.23379914  0.50082677]\n",
            "      W     = [[-0.43379914]\n",
            " [ 0.80082677]]\n",
            "      phi_h = [[-0.50847729 -0.3506635 ]\n",
            " [ 0.76271593  0.52599525]]\n",
            "      D_h   = [-0.16043083  0.24064625]\n",
            "      V     = [[ 0.53956917  0.84064625]\n",
            " [-0.96043083  0.74064625]]\n",
            "      Error = [3.81504762]\n",
            "      \n",
            "epochs 1\n",
            "\n",
            "      k = 1\n",
            "      net_h = [-0.49856008  1.01284012]\n",
            "      z     = [-0.46098398  0.76693417]\n",
            "      net_o = [0.81415587]\n",
            "      y     = [0.81415587]\n",
            "      phi_o = [2.18584413]\n",
            "      D_o   = [-0.30229174  0.50291956]\n",
            "      W     = [[-0.73609088]\n",
            " [ 1.30374633]]\n",
            "      phi_h = [[-0.74671522 -0.39048725]\n",
            " [ 1.37849405  0.72086967]]\n",
            "      D_h   = [-0.20572422  0.37978283]\n",
            "      V     = [[ 0.33384494  1.22042908]\n",
            " [-1.16615506  1.12042908]]\n",
            "      Error = [2.38895728]\n",
            "      \n",
            "epochs 2\n",
            "\n",
            "      k = 1\n",
            "      net_h = [-0.76600157  1.5065578 ]\n",
            "      z     = [-0.64459842  0.90632628]\n",
            "      net_o = [1.65610259]\n",
            "      y     = [1.65610259]\n",
            "      phi_o = [1.34389741]\n",
            "      D_o   = [-0.25988224  0.36540286]\n",
            "      W     = [[-0.99597313]\n",
            " [ 1.6691492 ]]\n",
            "      phi_h = [[-0.57819826 -0.17664955]\n",
            " [ 1.02409075  0.31287741]]\n",
            "      D_h   = [-0.12912563  0.22870419]\n",
            "      V     = [[ 0.20471931  1.44913327]\n",
            " [-1.29528069  1.34913327]]\n",
            "      Error = [0.90303013]\n",
            "      \n"
          ]
        }
      ]
    },
    {
      "cell_type": "markdown",
      "metadata": {
        "id": "EDJndDVrv6q_"
      },
      "source": [
        "### Multiplayer Perceptron Model"
      ]
    },
    {
      "cell_type": "code",
      "execution_count": 341,
      "metadata": {
        "id": "7-XNBXSev6rA"
      },
      "outputs": [],
      "source": [
        "class MultiplayerPerceptron:\n",
        "\n",
        "  def __init__(\n",
        "      self,\n",
        "      learning_rate=0.1,\n",
        "      epochs=1000,\n",
        "      a_hidden=np.tanh,\n",
        "      a_output=linear,\n",
        "      d_hidden=d_tanh,\n",
        "      d_output=d_linear,\n",
        "  ):\n",
        "      self.lr = learning_rate\n",
        "      self.epochs = epochs\n",
        "      self.a_hidden = a_hidden\n",
        "      self.a_output = a_output\n",
        "      self.d_hidden = d_hidden\n",
        "      self.d_output = d_output\n",
        "\n",
        "      self.Wh = None\n",
        "      self.Wo = None\n",
        "\n",
        "  def fit(self, X, D):\n",
        "    self.Wh = np.copy(hidden_weights.values)\n",
        "    self.Wo = np.copy(output_weights.values)\n",
        "\n",
        "    print(self.Wh, self.Wo)\n",
        "\n",
        "    # for _ in range(self.epochs):\n",
        "      # for idx, x_i in enumerate(X):\n",
        "      #   net_h = np.dot(hidden_weights.T, x_i)\n",
        "      #   z = np.tanh(net_h)\n",
        "\n",
        "      #   net_o = np.dot(output_weights.T, z)\n",
        "      #   y = linear(net_o)\n",
        "\n",
        "      #   # Back propagation\n",
        "\n",
        "      #   phi_o = (D[i] - y) * self.d_output(net_o)\n",
        "      #   D_o = self.lr * phi_o * z.T\n",
        "\n",
        "      #   phi_h = np.multiply(W * phi_o, self.d_hidden(net_h))\n",
        "      #   D_h = np.dot(self.lr * phi_h, x_i.T)\n",
        "\n",
        "      #   self.Wh += D_o.T\n",
        "      # self.Wo += D_h.T\n",
        "\n",
        "  def predict(self, X):\n",
        "    net_h = np.dot(hidden_weights.T, X)\n",
        "    z = np.tanh(net_h)\n",
        "\n",
        "    net_o = np.dot(output_weights.T, z)\n",
        "    y = linear(net_o)\n",
        "\n",
        "    return y"
      ]
    },
    {
      "cell_type": "code",
      "execution_count": 342,
      "metadata": {
        "id": "VyU_giKiv6rC",
        "outputId": "47675f8f-d7ae-4718-efb3-e309347e39e7",
        "colab": {
          "base_uri": "https://localhost:8080/"
        }
      },
      "outputs": [
        {
          "output_type": "stream",
          "name": "stdout",
          "text": [
            "[[0.5 0.4]] [[0.7]\n",
            " [0.8]]\n"
          ]
        }
      ],
      "source": [
        "mlp = MultiplayerPerceptron(\n",
        "    learning_rate=0.3,\n",
        "    epochs=1,\n",
        "    a_hidden=np.tanh,\n",
        "    a_output=linear,\n",
        "    d_hidden=d_tanh,\n",
        "    d_output=d_linear,\n",
        ")\n",
        "\n",
        "\n",
        "\n",
        "mlp.fit(data['X'].values, data['D'].values)"
      ]
    }
  ],
  "metadata": {
    "kernelspec": {
      "display_name": "main",
      "language": "python",
      "name": "python3"
    },
    "language_info": {
      "codemirror_mode": {
        "name": "ipython",
        "version": 3
      },
      "file_extension": ".py",
      "mimetype": "text/x-python",
      "name": "python",
      "nbconvert_exporter": "python",
      "pygments_lexer": "ipython3",
      "version": "3.12.2"
    },
    "colab": {
      "provenance": [],
      "include_colab_link": true
    }
  },
  "nbformat": 4,
  "nbformat_minor": 0
}